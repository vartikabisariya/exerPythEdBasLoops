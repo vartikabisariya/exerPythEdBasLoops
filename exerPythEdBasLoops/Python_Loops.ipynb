{
 "cells": [
  {
   "cell_type": "markdown",
   "id": "9fd612d8",
   "metadata": {
    "deletable": false,
    "editable": false,
    "nbgrader": {
     "cell_type": "markdown",
     "checksum": "01d54d9a10f234aae61b7a0cd8690457",
     "grade": false,
     "grade_id": "cell-5ab185d846b6c8a5",
     "locked": true,
     "schema_version": 3,
     "solution": false,
     "task": false
    }
   },
   "source": [
    "### Instructions\n",
    "\n",
    "* Sign up for the free course on Educative, __Learn Python 3 From Scratch__\n",
    "* https://www.educative.io/courses/learn-python-3-from-scratch\n",
    "* Complete the programming exercises below as you go through the course.\n",
    "* Delete or comment out the line of code in each cell which says `raise NotImplementedError()` and replace it with your own."
   ]
  },
  {
   "cell_type": "markdown",
   "id": "e7accf06",
   "metadata": {
    "deletable": false,
    "editable": false,
    "nbgrader": {
     "cell_type": "markdown",
     "checksum": "187298292e58fc67844e83173e80435c",
     "grade": false,
     "grade_id": "cell-a6e5eb8655382bf4",
     "locked": true,
     "schema_version": 3,
     "solution": false,
     "task": false
    }
   },
   "source": [
    "# Educative - Loops\n",
    "\n",
    "https://www.educative.io/courses/learn-python-3-from-scratch/39MAKp0Ozq4"
   ]
  },
  {
   "cell_type": "markdown",
   "id": "29245edf",
   "metadata": {
    "deletable": false,
    "editable": false,
    "nbgrader": {
     "cell_type": "markdown",
     "checksum": "184807b2d11f0c11fbdb60d76ac0e2ce",
     "grade": false,
     "grade_id": "cell-e5d93be0fdb2e303",
     "locked": true,
     "schema_version": 3,
     "solution": false,
     "task": false
    }
   },
   "source": [
    "### Exercises"
   ]
  },
  {
   "cell_type": "markdown",
   "id": "db71e4f9",
   "metadata": {
    "deletable": false,
    "editable": false,
    "nbgrader": {
     "cell_type": "markdown",
     "checksum": "6a01e116d5ba3f389d8ce0a61bb7e25e",
     "grade": false,
     "grade_id": "cell-c164beab4dc95b96",
     "locked": true,
     "schema_version": 3,
     "solution": false,
     "task": false
    }
   },
   "source": [
    "Write your answers as comments in the cell below.\n",
    "\n",
    "* What are two types of loops in Python?"
   ]
  },
  {
   "cell_type": "code",
   "execution_count": null,
   "id": "db95a113",
   "metadata": {
    "deletable": false,
    "nbgrader": {
     "cell_type": "code",
     "checksum": "ef41ee2ffda8be6f78c56ea9d5bed050",
     "grade": true,
     "grade_id": "cell-328403142c4bc137",
     "locked": false,
     "points": 1,
     "schema_version": 3,
     "solution": true,
     "task": false
    }
   },
   "outputs": [],
   "source": [
    "\n",
    "# YOUR CODE HERE\n",
    "\n",
    "#For loop and while loop."
   ]
  },
  {
   "cell_type": "markdown",
   "id": "81d2e52e",
   "metadata": {
    "deletable": false,
    "editable": false,
    "nbgrader": {
     "cell_type": "markdown",
     "checksum": "60a0c1e227dca1c24707c9b89d7cb61e",
     "grade": false,
     "grade_id": "cell-5cd10f655defa7a9",
     "locked": true,
     "schema_version": 3,
     "solution": false,
     "task": false
    }
   },
   "source": [
    "Write code in the cell below.\n",
    "\n",
    "* Use a for loop to print the numbers 1 through 10 and if each number `is odd` or `is even`."
   ]
  },
  {
   "cell_type": "code",
   "execution_count": 1,
   "id": "1aa7533a",
   "metadata": {
    "deletable": false,
    "nbgrader": {
     "cell_type": "code",
     "checksum": "eea181725a7b57900d36e1abf6e47090",
     "grade": true,
     "grade_id": "cell-c438f3e46a5cd626",
     "locked": false,
     "points": 1,
     "schema_version": 3,
     "solution": true,
     "task": false
    }
   },
   "outputs": [
    {
     "name": "stdout",
     "output_type": "stream",
     "text": [
      "1  is odd\n",
      "2  is even\n",
      "3  is odd\n",
      "4  is even\n",
      "5  is odd\n",
      "6  is even\n",
      "7  is odd\n",
      "8  is even\n",
      "9  is odd\n",
      "10  is even\n"
     ]
    }
   ],
   "source": [
    "\n",
    "# YOUR CODE HERE\n",
    "for i in range(1, 11):  \n",
    "    if i % 2 == 0:\n",
    "        print(i, \" is even\")\n",
    "    else:\n",
    "        print(i, \" is odd\")"
   ]
  },
  {
   "cell_type": "markdown",
   "id": "68528cc7",
   "metadata": {
    "deletable": false,
    "editable": false,
    "nbgrader": {
     "cell_type": "markdown",
     "checksum": "ba3300f6aa7fc31b6cce53d3eb7961c7",
     "grade": false,
     "grade_id": "cell-d818206ba2a28261",
     "locked": true,
     "schema_version": 3,
     "solution": false,
     "task": false
    }
   },
   "source": [
    "Write code in the cell below.\n",
    "\n",
    "* Given the list called `float_list`, use a for loop to multiply each number in the list by two.\n",
    "* Print the updated list after the for loop is completed."
   ]
  },
  {
   "cell_type": "code",
   "execution_count": 2,
   "id": "9e8f1860",
   "metadata": {
    "deletable": false,
    "nbgrader": {
     "cell_type": "code",
     "checksum": "f0917d70120c4d6467ea45820df276b7",
     "grade": true,
     "grade_id": "cell-bb794d921b3d6e2c",
     "locked": false,
     "points": 1,
     "schema_version": 3,
     "solution": true,
     "task": false
    }
   },
   "outputs": [
    {
     "name": "stdout",
     "output_type": "stream",
     "text": [
      "[2.5, 16.42, 10.77, 8.3, 34.21]\n",
      "[5.0, 32.84, 21.54, 16.6, 68.42]\n"
     ]
    }
   ],
   "source": [
    "float_list = [2.5, 16.42, 10.77, 8.3, 34.21]\n",
    "\n",
    "# YOUR CODE HERE\n",
    "print(float_list)\n",
    "\n",
    "for i in range(0, len(float_list)): \n",
    "    float_list[i] = float_list[i] * 2\n",
    "\n",
    "print(float_list)"
   ]
  },
  {
   "cell_type": "markdown",
   "id": "d4ec0c91",
   "metadata": {
    "deletable": false,
    "editable": false,
    "nbgrader": {
     "cell_type": "markdown",
     "checksum": "9ecd4765d29905cab2848ed3f405b911",
     "grade": false,
     "grade_id": "cell-1462ef5349265022",
     "locked": true,
     "schema_version": 3,
     "solution": false,
     "task": false
    }
   },
   "source": [
    "Write code in the cell below.\n",
    "\n",
    "* Create a new variable called `count_greater`.\n",
    "* Given the list called `float_list`, use a for loop to count how many values in `float_list` are greater than 10.\n",
    "* Hint: Increase the value of `count_greater` by one for each value in the list which is greater than 10.\n",
    "* Print the value for `count_greater` after the for loop is completed."
   ]
  },
  {
   "cell_type": "code",
   "execution_count": 3,
   "id": "78bb43a2",
   "metadata": {
    "deletable": false,
    "nbgrader": {
     "cell_type": "code",
     "checksum": "5d1ecbb32d90654192b9209c78c23698",
     "grade": true,
     "grade_id": "cell-6b749a1b90db81cf",
     "locked": false,
     "points": 1,
     "schema_version": 3,
     "solution": true,
     "task": false
    }
   },
   "outputs": [
    {
     "name": "stdout",
     "output_type": "stream",
     "text": [
      "3\n"
     ]
    }
   ],
   "source": [
    "float_list = [2.5, 16.42, 10.77, 8.3, 34.21]\n",
    "\n",
    "# YOUR CODE HERE\n",
    "count_greater = 0\n",
    "\n",
    "for num in float_list: \n",
    "    if num > 10:\n",
    "        count_greater += 1\n",
    "\n",
    "print(count_greater)"
   ]
  },
  {
   "cell_type": "markdown",
   "id": "6bac6ffa",
   "metadata": {
    "deletable": false,
    "editable": false,
    "nbgrader": {
     "cell_type": "markdown",
     "checksum": "fbc72745d177ef44583cbaacb45c48b4",
     "grade": false,
     "grade_id": "cell-fe480bd003da46b3",
     "locked": true,
     "schema_version": 3,
     "solution": false,
     "task": false
    }
   },
   "source": [
    "Write code in the cell below.\n",
    "\n",
    "* Given the list called `num_list` and the variable `n`, use a nested for loop to see which values in the list sum to `n` and print the values."
   ]
  },
  {
   "cell_type": "code",
   "execution_count": 4,
   "id": "8bcc51bf",
   "metadata": {
    "deletable": false,
    "nbgrader": {
     "cell_type": "code",
     "checksum": "daff5a029de0c643eb9e41d4e0393aba",
     "grade": true,
     "grade_id": "cell-8905b0eedcab08df",
     "locked": false,
     "points": 2,
     "schema_version": 3,
     "solution": true,
     "task": false
    },
    "scrolled": true
   },
   "outputs": [
    {
     "name": "stdout",
     "output_type": "stream",
     "text": [
      "23 27\n",
      "27 23\n"
     ]
    }
   ],
   "source": [
    "n = 50\n",
    "num_list = [10, 4, 23, 6, 18, 27, 47]\n",
    "\n",
    "# YOUR CODE HERE\n",
    "for n1 in num_list:\n",
    "    for n2 in num_list:  # Now we have two iterators\n",
    "        if(n1 != n2):\n",
    "            if(n1 + n2 == n):\n",
    "                print(n1, n2)\n"
   ]
  },
  {
   "cell_type": "markdown",
   "id": "11763f71",
   "metadata": {
    "deletable": false,
    "editable": false,
    "nbgrader": {
     "cell_type": "markdown",
     "checksum": "686bc3773ce52e27541789342d8cd6fd",
     "grade": false,
     "grade_id": "cell-731276be9fa5f5f6",
     "locked": true,
     "schema_version": 3,
     "solution": false,
     "task": false
    }
   },
   "source": [
    "Write your answers as comments in the cell below.\n",
    "\n",
    "* What does the `break` keyword do?\n",
    "* What does the `continue` keyword do?\n",
    "* What does the `pass` keyword do?"
   ]
  },
  {
   "cell_type": "code",
   "execution_count": null,
   "id": "e7c09890",
   "metadata": {
    "deletable": false,
    "nbgrader": {
     "cell_type": "code",
     "checksum": "46b8cd046da3e40ab0cf570ea60351d5",
     "grade": true,
     "grade_id": "cell-99296d2c35866661",
     "locked": false,
     "points": 3,
     "schema_version": 3,
     "solution": true,
     "task": false
    }
   },
   "outputs": [],
   "source": [
    "\n",
    "# YOUR CODE HERE\n",
    "#It can break the loop whenever we want.\n",
    "#It allows to skip an iteration and move to the next one.\n",
    "#The pass statement is used as a placeholder for future code. When the pass statement is executed, nothing happens, but you avoid getting an error when empty code is not allowed."
   ]
  },
  {
   "cell_type": "markdown",
   "id": "0c6df358",
   "metadata": {
    "deletable": false,
    "editable": false,
    "nbgrader": {
     "cell_type": "markdown",
     "checksum": "a9d4cbdc22ca466eabc9d557e4506be7",
     "grade": false,
     "grade_id": "cell-723e93919a00daae",
     "locked": true,
     "schema_version": 3,
     "solution": false,
     "task": false
    }
   },
   "source": [
    "Write code in the cell below.\n",
    "\n",
    "* Create a variable named `n` and assign it a value between 2 and 10.\n",
    "* Use a while loop that finds the maximum power of `n` before the value exceeds 1000."
   ]
  },
  {
   "cell_type": "code",
   "execution_count": 5,
   "id": "f70863fe",
   "metadata": {
    "deletable": false,
    "nbgrader": {
     "cell_type": "code",
     "checksum": "7f5989ecdd385b16a7b52c44432a4dd5",
     "grade": true,
     "grade_id": "cell-17bbe6ea661af987",
     "locked": false,
     "points": 2,
     "schema_version": 3,
     "solution": true,
     "task": false
    }
   },
   "outputs": [
    {
     "name": "stdout",
     "output_type": "stream",
     "text": [
      "9\n"
     ]
    }
   ],
   "source": [
    "\n",
    "# YOUR CODE HERE\n",
    "n = 2\n",
    "power = 0\n",
    "val = n\n",
    "while val < 1000:\n",
    "    power += 1\n",
    "    val *= n\n",
    "print(power)"
   ]
  },
  {
   "cell_type": "markdown",
   "id": "54d2b690",
   "metadata": {
    "deletable": false,
    "editable": false,
    "nbgrader": {
     "cell_type": "markdown",
     "checksum": "aeb76016fe8cf3da3f2cc9705d1ca5cb",
     "grade": false,
     "grade_id": "cell-9186131f7f1ff6c9",
     "locked": true,
     "schema_version": 3,
     "solution": false,
     "task": false
    }
   },
   "source": [
    "Write code in the cell below.\n",
    "\n",
    "* Given an integer `n`, compute the sum of the first and last digit of `n`.\n",
    "* Hint: You can find the last digit easily by dividing `n` by 10 and finding the remainder.\n",
    "* Hint: You can find the first digit by using a while loop and floor division.\n",
    "* Print the result."
   ]
  },
  {
   "cell_type": "code",
   "execution_count": 7,
   "id": "92b9c0b7",
   "metadata": {
    "deletable": false,
    "nbgrader": {
     "cell_type": "code",
     "checksum": "c75a644aee94be1076da6f413f5b9ed1",
     "grade": true,
     "grade_id": "cell-396430a5872a8707",
     "locked": false,
     "points": 2,
     "schema_version": 3,
     "solution": true,
     "task": false
    }
   },
   "outputs": [
    {
     "name": "stdout",
     "output_type": "stream",
     "text": [
      "11\n"
     ]
    }
   ],
   "source": [
    "n = 249\n",
    "\n",
    "# YOUR CODE HERE\n",
    "\n",
    "last = n % 10 \n",
    "\n",
    "first = n  \n",
    "while first >= 10:\n",
    "    first //= 10  \n",
    "\n",
    "result = first + last\n",
    "print(result)"
   ]
  },
  {
   "cell_type": "code",
   "execution_count": null,
   "id": "cd654a9f",
   "metadata": {},
   "outputs": [],
   "source": []
  },
  {
   "cell_type": "code",
   "execution_count": null,
   "id": "9d51265b",
   "metadata": {},
   "outputs": [],
   "source": []
  },
  {
   "cell_type": "code",
   "execution_count": null,
   "id": "1bfbf3ea",
   "metadata": {},
   "outputs": [],
   "source": []
  }
 ],
 "metadata": {
  "kernelspec": {
   "display_name": "Python 3 (ipykernel)",
   "language": "python",
   "name": "python3"
  },
  "language_info": {
   "codemirror_mode": {
    "name": "ipython",
    "version": 3
   },
   "file_extension": ".py",
   "mimetype": "text/x-python",
   "name": "python",
   "nbconvert_exporter": "python",
   "pygments_lexer": "ipython3",
   "version": "3.9.12"
  }
 },
 "nbformat": 4,
 "nbformat_minor": 5
}
